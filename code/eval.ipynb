{
 "cells": [
  {
   "cell_type": "markdown",
   "metadata": {},
   "source": [
    "Evaluate trained text-tagger models on the test set."
   ]
  },
  {
   "cell_type": "markdown",
   "metadata": {},
   "source": [
    "---"
   ]
  },
  {
   "cell_type": "code",
   "execution_count": 1,
   "metadata": {},
   "outputs": [],
   "source": [
    "import os\n",
    "import re\n",
    "from flair.models import SequenceTagger\n",
    "from flair.data import Corpus\n",
    "from flair.datasets import ColumnCorpus"
   ]
  },
  {
   "cell_type": "code",
   "execution_count": null,
   "metadata": {},
   "outputs": [],
   "source": [
    "# # included for convenience to help find correct paths\n",
    "# import os\n",
    "# os.getcwd()\n",
    "# os.listdir(\"..\")"
   ]
  },
  {
   "cell_type": "markdown",
   "metadata": {},
   "source": [
    "Constants."
   ]
  },
  {
   "cell_type": "code",
   "execution_count": 2,
   "metadata": {},
   "outputs": [],
   "source": [
    "# top level project directory containing code, data, .gitignore, etc\n",
    "MEDRED_REPRODUCIBLE_DIR = \"../\"\n",
    "# corpus (preprocessed) paths\n",
    "MEDRED_LABELS_DIR = MEDRED_REPRODUCIBLE_DIR + \"data/AMT/labels\"\n",
    "MICROMED_LABELS_DIR = MEDRED_REPRODUCIBLE_DIR + \"data/Micromed\"\n",
    "CADEC_LABELS_DIR = MEDRED_REPRODUCIBLE_DIR + \"data/cadec\"\n",
    "# model paths\n",
    "TAGGER_MODEL_DIR = MEDRED_REPRODUCIBLE_DIR + \"resources/taggers/\"\n",
    "MEDRED_MODEL = TAGGER_MODEL_DIR + \"FA_MedRed_glove_roberta/final-model.pt\"\n",
    "MICROMED_MODEL = TAGGER_MODEL_DIR + \"FA_Micromed_glove_roberta/final-model.pt\"\n",
    "CADEC_MODEL = TAGGER_MODEL_DIR + \"FA_CADEC_glove_roberta/final-model.pt\"\n",
    "MEDRED_ALT_MODEL = TAGGER_MODEL_DIR + \"FA_MedRed_pooled-flair_roberta/final-model.pt\""
   ]
  },
  {
   "cell_type": "markdown",
   "metadata": {},
   "source": [
    "Evaluation code."
   ]
  },
  {
   "cell_type": "code",
   "execution_count": 3,
   "metadata": {},
   "outputs": [],
   "source": [
    "def read_in_data(path):\n",
    "\tfiles = os.listdir(path)\n",
    "\tregex = re.compile(\".*(_train|_dev|_test).*\")\n",
    "\tfiles = list(filter(regex.match, files))\n",
    "\n",
    "\t# define columns\n",
    "\tcolumns = {0: 'text', 1: 'ner'}\n",
    "\n",
    "\t# init a corpus using column format, data folder and the names of the train, dev and test files\n",
    "\tcorpus: Corpus = ColumnCorpus(path, columns,\n",
    "\t                              train_file=files[2],\n",
    "\t                              test_file=files[1],\n",
    "\t                              dev_file=files[0])\n",
    "\treturn corpus\n",
    "\n",
    "def eval(model, alt_medred=False):\n",
    "\t'''\n",
    "    \n",
    "\t'''\n",
    "\tif model == \"MedRed\":\n",
    "\t\tcorpus = read_in_data(MEDRED_LABELS_DIR)\n",
    "\t\tif alt_medred:\n",
    "\t\t\tmodel_path = MEDRED_ALT_MODEL\n",
    "\t\telse:\n",
    "\t\t\tmodel_path = MEDRED_MODEL\n",
    "\telif model == \"Micromed\":\n",
    "\t\tcorpus = read_in_data(MICROMED_LABELS_DIR)\n",
    "\t\tmodel_path = MICROMED_MODEL\n",
    "\telif model == \"CADEC\":\n",
    "\t\tcorpus = read_in_data(CADEC_LABELS_DIR)\n",
    "\t\tmodel_path = CADEC_MODEL\n",
    "\telse:\n",
    "\t\traise ValueError(\"`model` must be one of MedRec, Micromed, CADEC.\")\t\n",
    "\n",
    "\t# load the model you trained\n",
    "\tmodel = SequenceTagger.load(model_path)\n",
    "\n",
    "\t# evaluate on test set\n",
    "\tresult = model.evaluate(corpus.test, gold_label_type='ner')\n",
    "\tprint(result)\n",
    "\treturn result"
   ]
  },
  {
   "cell_type": "code",
   "execution_count": 15,
   "metadata": {},
   "outputs": [
    {
     "name": "stdout",
     "output_type": "stream",
     "text": [
      "2022-05-07 13:48:36,423 Reading data from ..\\data\\AMT\\labels\n",
      "2022-05-07 13:48:36,423 Train: ..\\data\\AMT\\labels\\NER_Reddit_AMT_labels_href_train.csv\n",
      "2022-05-07 13:48:36,424 Dev: ..\\data\\AMT\\labels\\NER_Reddit_AMT_labels_href_dev.csv\n",
      "2022-05-07 13:48:36,425 Test: ..\\data\\AMT\\labels\\NER_Reddit_AMT_labels_href_test.csv\n",
      "2022-05-07 13:48:38,045 loading file ../resources/taggers/FA_MedRed_glove_roberta/final-model.pt\n",
      "2022-05-07 13:48:40,670 SequenceTagger predicts: Dictionary with 11 tags: O, S-DIS, B-DIS, E-DIS, I-DIS, S-DRUG, B-DRUG, E-DRUG, I-DRUG, <START>, <STOP>\n"
     ]
    },
    {
     "name": "stderr",
     "output_type": "stream",
     "text": [
      "100%|██████████| 17/17 [00:37<00:00,  2.19s/it]"
     ]
    },
    {
     "name": "stdout",
     "output_type": "stream",
     "text": [
      "2022-05-07 13:49:18,052 Evaluating as a multi-label problem: False\n",
      "\n",
      "Results:\n",
      "- F-score (micro) 0.6909\n",
      "- F-score (macro) 0.7097\n",
      "- Accuracy 0.5307\n",
      "\n",
      "By class:\n",
      "              precision    recall  f1-score   support\n",
      "\n",
      "         DIS     0.6943    0.6528    0.6729       769\n",
      "        DRUG     0.7240    0.7702    0.7464       235\n",
      "\n",
      "   micro avg     0.7020    0.6803    0.6909      1004\n",
      "   macro avg     0.7092    0.7115    0.7097      1004\n",
      "weighted avg     0.7013    0.6803    0.6901      1004\n",
      "\n",
      "Loss: 0.18928715586662292'\n"
     ]
    },
    {
     "name": "stderr",
     "output_type": "stream",
     "text": [
      "\n"
     ]
    }
   ],
   "source": [
    "medred_eval = eval(\"MedRed\")"
   ]
  },
  {
   "cell_type": "code",
   "execution_count": 16,
   "metadata": {},
   "outputs": [
    {
     "name": "stdout",
     "output_type": "stream",
     "text": [
      "2022-05-07 13:49:18,137 Reading data from ..\\data\\Micromed\n",
      "2022-05-07 13:49:18,138 Train: ..\\data\\Micromed\\NER_Micromed_labels_train.csv\n",
      "2022-05-07 13:49:18,139 Dev: ..\\data\\Micromed\\NER_Micromed_labels_dev.csv\n",
      "2022-05-07 13:49:18,140 Test: ..\\data\\Micromed\\NER_Micromed_labels_test.csv\n",
      "2022-05-07 13:49:18,206 loading file ../resources/taggers/FA_Micromed_glove_roberta/final-model.pt\n",
      "2022-05-07 13:49:21,416 SequenceTagger predicts: Dictionary with 11 tags: O, S-DIS, B-DIS, E-DIS, I-DIS, S-DRUG, B-DRUG, E-DRUG, I-DRUG, <START>, <STOP>\n"
     ]
    },
    {
     "name": "stderr",
     "output_type": "stream",
     "text": [
      "100%|██████████| 3/3 [00:00<00:00,  3.85it/s]"
     ]
    },
    {
     "name": "stdout",
     "output_type": "stream",
     "text": [
      "2022-05-07 13:49:22,504 Evaluating as a multi-label problem: False\n",
      "\n",
      "Results:\n",
      "- F-score (micro) 0.7293\n",
      "- F-score (macro) 0.7301\n",
      "- Accuracy 0.5739\n",
      "\n",
      "By class:\n",
      "              precision    recall  f1-score   support\n",
      "\n",
      "         DIS     0.6711    0.7969    0.7286        64\n",
      "        DRUG     0.7895    0.6818    0.7317        22\n",
      "\n",
      "   micro avg     0.6947    0.7674    0.7293        86\n",
      "   macro avg     0.7303    0.7393    0.7301        86\n",
      "weighted avg     0.7013    0.7674    0.7294        86\n",
      "\n",
      "Loss: 0.12414750456809998'\n"
     ]
    },
    {
     "name": "stderr",
     "output_type": "stream",
     "text": [
      "\n"
     ]
    }
   ],
   "source": [
    "micromed_eval = eval(\"Micromed\")"
   ]
  },
  {
   "cell_type": "code",
   "execution_count": 17,
   "metadata": {},
   "outputs": [
    {
     "name": "stdout",
     "output_type": "stream",
     "text": [
      "2022-05-07 13:49:22,634 Reading data from ..\\data\\cadec\n",
      "2022-05-07 13:49:22,635 Train: ..\\data\\cadec\\NER_CADEC_labels_train.csv\n",
      "2022-05-07 13:49:22,635 Dev: ..\\data\\cadec\\NER_CADEC_labels_dev.csv\n",
      "2022-05-07 13:49:22,636 Test: ..\\data\\cadec\\NER_CADEC_labels_test.csv\n",
      "2022-05-07 13:49:23,785 loading file ../resources/taggers/FA_CADEC_glove_roberta/final-model.pt\n",
      "2022-05-07 13:49:26,262 SequenceTagger predicts: Dictionary with 11 tags: O, S-DRUG, B-DRUG, E-DRUG, I-DRUG, S-DIS, B-DIS, E-DIS, I-DIS, <START>, <STOP>\n"
     ]
    },
    {
     "name": "stderr",
     "output_type": "stream",
     "text": [
      "100%|██████████| 7/7 [00:15<00:00,  2.16s/it]"
     ]
    },
    {
     "name": "stdout",
     "output_type": "stream",
     "text": [
      "2022-05-07 13:49:41,703 Evaluating as a multi-label problem: False\n",
      "\n",
      "Results:\n",
      "- F-score (micro) 0.8475\n",
      "- F-score (macro) 0.5902\n",
      "- Accuracy 0.7353\n",
      "\n",
      "By class:\n",
      "              precision    recall  f1-score   support\n",
      "\n",
      "        DRUG     0.8943    0.9026    0.8984       431\n",
      "         DIS     0.6111    0.1833    0.2821        60\n",
      "\n",
      "   micro avg     0.8830    0.8147    0.8475       491\n",
      "   macro avg     0.7527    0.5429    0.5902       491\n",
      "weighted avg     0.8597    0.8147    0.8231       491\n",
      "\n",
      "Loss: 0.018556272611021996'\n"
     ]
    },
    {
     "name": "stderr",
     "output_type": "stream",
     "text": [
      "\n"
     ]
    }
   ],
   "source": [
    "cadec_eval = eval(\"CADEC\")"
   ]
  },
  {
   "cell_type": "code",
   "execution_count": 4,
   "metadata": {},
   "outputs": [
    {
     "name": "stdout",
     "output_type": "stream",
     "text": [
      "2022-05-08 12:25:55,734 Reading data from ..\\data\\AMT\\labels\n",
      "2022-05-08 12:25:55,734 Train: ..\\data\\AMT\\labels\\NER_Reddit_AMT_labels_href_train.csv\n",
      "2022-05-08 12:25:55,735 Dev: ..\\data\\AMT\\labels\\NER_Reddit_AMT_labels_href_dev.csv\n",
      "2022-05-08 12:25:55,735 Test: ..\\data\\AMT\\labels\\NER_Reddit_AMT_labels_href_test.csv\n",
      "2022-05-08 12:25:57,226 loading file ../resources/taggers/FA_MedRed_pooled-flair_roberta/final-model.pt\n",
      "2022-05-08 12:26:03,552 SequenceTagger predicts: Dictionary with 11 tags: O, S-DIS, B-DIS, E-DIS, I-DIS, S-DRUG, B-DRUG, E-DRUG, I-DRUG, <START>, <STOP>\n"
     ]
    },
    {
     "name": "stderr",
     "output_type": "stream",
     "text": [
      "100%|██████████| 17/17 [00:55<00:00,  3.24s/it]"
     ]
    },
    {
     "name": "stdout",
     "output_type": "stream",
     "text": [
      "2022-05-08 12:26:59,488 Evaluating as a multi-label problem: False\n",
      "\n",
      "Results:\n",
      "- F-score (micro) 0.683\n",
      "- F-score (macro) 0.7\n",
      "- Accuracy 0.5221\n",
      "\n",
      "By class:\n",
      "              precision    recall  f1-score   support\n",
      "\n",
      "         DIS     0.7617    0.5943    0.6676       769\n",
      "        DRUG     0.8168    0.6638    0.7324       235\n",
      "\n",
      "   micro avg     0.7750    0.6106    0.6830      1004\n",
      "   macro avg     0.7892    0.6291    0.7000      1004\n",
      "weighted avg     0.7746    0.6106    0.6828      1004\n",
      "\n",
      "Loss: 0.1037561297416687'\n"
     ]
    },
    {
     "name": "stderr",
     "output_type": "stream",
     "text": [
      "\n"
     ]
    }
   ],
   "source": [
    "medred_alt_eval = eval(\"MedRed\", alt_medred=True)"
   ]
  },
  {
   "cell_type": "code",
   "execution_count": null,
   "metadata": {},
   "outputs": [],
   "source": []
  }
 ],
 "metadata": {
  "interpreter": {
   "hash": "9c1d87ea85a731d0848cf4e607dbb57360506d747d84c6cb1b30d4e34e6c1fb7"
  },
  "kernelspec": {
   "display_name": "Python 3.9.7 ('base')",
   "language": "python",
   "name": "python3"
  },
  "language_info": {
   "codemirror_mode": {
    "name": "ipython",
    "version": 3
   },
   "file_extension": ".py",
   "mimetype": "text/x-python",
   "name": "python",
   "nbconvert_exporter": "python",
   "pygments_lexer": "ipython3",
   "version": "3.9.7"
  },
  "orig_nbformat": 4
 },
 "nbformat": 4,
 "nbformat_minor": 2
}
